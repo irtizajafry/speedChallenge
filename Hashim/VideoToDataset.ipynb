{
 "cells": [
  {
   "cell_type": "code",
   "execution_count": 1,
   "metadata": {},
   "outputs": [],
   "source": [
    "import cv2\n",
    "import numpy as np\n",
    "import pandas as pd\n",
    "import matplotlib.pyplot as plt\n",
    "import matplotlib.image as mpimg\n",
    "import os\n",
    "import csv\n",
    "import json\n",
    "%matplotlib inline"
   ]
  },
  {
   "cell_type": "markdown",
   "metadata": {},
   "source": [
    "# ls data"
   ]
  },
  {
   "cell_type": "code",
   "execution_count": 2,
   "metadata": {},
   "outputs": [
    {
     "name": "stdout",
     "output_type": "stream",
     "text": [
      "Frames per second using video.get(cv2.CAP_PROP_FPS) : 30.003\n"
     ]
    }
   ],
   "source": [
    "with open('file7.log') as f:\n",
    "    f = f.readlines()\n",
    "\n",
    "time = []\n",
    "speed = []\n",
    "\n",
    "# 630 seconds\n",
    "for l in f:\n",
    "    l = l.split(\"|\")\n",
    "    sec = int(l[2])-272738207\n",
    "    time.append(sec)\n",
    "    speed.append(float(l[3]))\n",
    "\n",
    "fps = 0\n",
    "cap = cv2.VideoCapture(\"train-video.mp4\")\n",
    "(major_ver, minor_ver, subminor_ver) = (cv2.__version__).split('.')\n",
    "if int(major_ver)  < 3 :\n",
    "    fps = cap.get(cv2.cv.CV_CAP_PROP_FPS)\n",
    "    print (\"Frames per second using video.get(cv2.cv.CV_CAP_PROP_FPS): {0}\".format(fps))\n",
    "else :\n",
    "    fps = cap.get(cv2.CAP_PROP_FPS)\n",
    "    print (\"Frames per second using video.get(cv2.CAP_PROP_FPS) : {0}\".format(fps))\n",
    "\n",
    "total_list = []\n",
    "k = 1/fps\n",
    "j = k\n",
    "m = time[-1]\n",
    "while True:\n",
    "    arr3 = []\n",
    "    if j > m:\n",
    "        break\n",
    "    a = np.interp(j,time,speed)\n",
    "    arr3.append(j)\n",
    "    arr3.append(a)\n",
    "    total_list.append(arr3)\n",
    "    j = j + k\n",
    "\n",
    "with open('train_drive.json', 'w') as filehandle:  \n",
    "    json.dump(total_list, filehandle)"
   ]
  },
  {
   "cell_type": "markdown",
   "metadata": {},
   "source": [
    "### Grab Json Data"
   ]
  },
  {
   "cell_type": "code",
   "execution_count": 3,
   "metadata": {},
   "outputs": [
    {
     "name": "stdout",
     "output_type": "stream",
     "text": [
      "18901\n"
     ]
    }
   ],
   "source": [
    "groundtruth = 0\n",
    "with open('train_drive.json') as json_data:\n",
    "    ground_truth = json.load(json_data)\n",
    "    json_data.close()\n",
    "    print(len(ground_truth))"
   ]
  },
  {
   "cell_type": "markdown",
   "metadata": {},
   "source": [
    "## Grab txt data (for new)"
   ]
  },
  {
   "cell_type": "code",
   "execution_count": 4,
   "metadata": {},
   "outputs": [],
   "source": [
    "# F = open('./data/train.txt', 'r')\n",
    "# # print(F.read())\n",
    "# ground_truth = [x for x in F.read()]\n",
    "# print(len(ground_truth))"
   ]
  },
  {
   "cell_type": "markdown",
   "metadata": {},
   "source": [
    "### Save images to directory and write image paths to `driving.csv`"
   ]
  },
  {
   "cell_type": "code",
   "execution_count": 5,
   "metadata": {},
   "outputs": [],
   "source": [
    "# with open('./driving.csv', 'w') as csvfile:\n",
    "#     fieldnames = ['image_path', 'frame', 'speed']\n",
    "#     writer = csv.DictWriter(csvfile, fieldnames = fieldnames)\n",
    "#     writer.writeheader()\n",
    "    \n",
    "#     # Path to raw image folder\n",
    "#     abs_path_to_IMG = os.path.join('./data/IMG/')\n",
    "    \n",
    "#     cap = cv2.VideoCapture('./data/train.mp4')\n",
    "#     cap.set(cv2.CAP_PROP_FRAME_COUNT, len(ground_truth))\n",
    "# #     cap.set(cv2.CAP_PROP_FPS, 11.7552) #11.7552\n",
    "\n",
    "\n",
    "#     for idx, item in enumerate(ground_truth):\n",
    "        \n",
    "#         cap.set(cv2.CAP_PROP_POS_FRAMES, idx)\n",
    "#         # read in the image\n",
    "#         success, image = cap.read()\n",
    "#         if success:\n",
    "#             image_path = os.path.join('./data/IMG/', str(idx) + '.jpg')\n",
    "            \n",
    "#             # save image to IMG folder\n",
    "#             cv2.imwrite(image_path, image)\n",
    "            \n",
    "#             # write row to driving.csv\n",
    "#             writer.writerow({'image_path': image_path,\n",
    "#                      'frame': idx,\n",
    "#                      'speed':item[1],\n",
    "#                     })\n",
    "# print('done!')"
   ]
  },
  {
   "cell_type": "code",
   "execution_count": null,
   "metadata": {},
   "outputs": [],
   "source": [
    "import matplotlib.image as mpimg \n",
    "import matplotlib.pyplot as plt\n",
    "with open('driving.csv', 'w') as csvfile:\n",
    "    fieldnames = ['image_path', 'time', 'speed']\n",
    "    writer = csv.DictWriter(csvfile, fieldnames = fieldnames)\n",
    "    writer.writeheader()\n",
    "    \n",
    "    # Path to raw image folder\n",
    "    abs_path_to_IMG = os.path.join('IMG/')\n",
    "    \n",
    "    cap.set(cv2.CAP_PROP_FRAME_COUNT, len(ground_truth))\n",
    "#     cap.set(cv2.CAP_PROP_FPS, 11.7552) #11.7552\n",
    "\n",
    "\n",
    "    for idx, item in enumerate(ground_truth):\n",
    "        \n",
    "        cap.set(cv2.CAP_PROP_POS_FRAMES, idx)\n",
    "        # read in the image\n",
    "        success, image = cap.read()\n",
    "        if success:\n",
    "            image_path = os.path.join('IMG/', str(item[0]) + '.jpg')\n",
    "            \n",
    "            image = cv2.flip(image, 0)\n",
    "            # save image to IMG folder\n",
    "            cv2.imwrite(image_path, image)\n",
    "            \n",
    "            # write row to driving.csv\n",
    "            writer.writerow({'image_path': image_path, \n",
    "                     'time':item[0],\n",
    "                     'speed':item[1],\n",
    "                    })\n",
    "print('done!')\n",
    "\n",
    "cap.release()\n",
    "cv2.destroyAllWindows()"
   ]
  },
  {
   "cell_type": "code",
   "execution_count": 9,
   "metadata": {},
   "outputs": [
    {
     "ename": "FileNotFoundError",
     "evalue": "[Errno 2] No such file or directory: './IMG/'",
     "output_type": "error",
     "traceback": [
      "\u001b[0;31m---------------------------------------------------------------------------\u001b[0m",
      "\u001b[0;31mFileNotFoundError\u001b[0m                         Traceback (most recent call last)",
      "\u001b[0;32m<ipython-input-9-e22a72aa048d>\u001b[0m in \u001b[0;36m<module>\u001b[0;34m()\u001b[0m\n\u001b[0;32m----> 1\u001b[0;31m \u001b[0mlistOfFiles\u001b[0m \u001b[0;34m=\u001b[0m \u001b[0mos\u001b[0m\u001b[0;34m.\u001b[0m\u001b[0mlistdir\u001b[0m\u001b[0;34m(\u001b[0m\u001b[0;34m'./IMG/'\u001b[0m\u001b[0;34m)\u001b[0m\u001b[0;34m\u001b[0m\u001b[0;34m\u001b[0m\u001b[0m\n\u001b[0m\u001b[1;32m      2\u001b[0m \u001b[0mprint\u001b[0m \u001b[0;34m(\u001b[0m\u001b[0mlen\u001b[0m\u001b[0;34m(\u001b[0m\u001b[0mlistOfFiles\u001b[0m\u001b[0;34m)\u001b[0m\u001b[0;34m)\u001b[0m\u001b[0;34m\u001b[0m\u001b[0;34m\u001b[0m\u001b[0m\n",
      "\u001b[0;31mFileNotFoundError\u001b[0m: [Errno 2] No such file or directory: './IMG/'"
     ]
    }
   ],
   "source": [
    "listOfFiles = os.listdir('IMG/')\n",
    "print (len(listOfFiles))"
   ]
  },
  {
   "cell_type": "code",
   "execution_count": null,
   "metadata": {},
   "outputs": [],
   "source": []
  }
 ],
 "metadata": {
  "anaconda-cloud": {},
  "kernelspec": {
   "display_name": "Python 3",
   "language": "python",
   "name": "python3"
  },
  "language_info": {
   "codemirror_mode": {
    "name": "ipython",
    "version": 3
   },
   "file_extension": ".py",
   "mimetype": "text/x-python",
   "name": "python",
   "nbconvert_exporter": "python",
   "pygments_lexer": "ipython3",
   "version": "3.6.8"
  }
 },
 "nbformat": 4,
 "nbformat_minor": 1
}
