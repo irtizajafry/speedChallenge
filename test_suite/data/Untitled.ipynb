{
 "cells": [
  {
   "cell_type": "code",
   "execution_count": 16,
   "metadata": {},
   "outputs": [
    {
     "name": "stdout",
     "output_type": "stream",
     "text": [
      "Frames per second using video.get(cv2.CAP_PROP_FPS) : 29.97\n"
     ]
    }
   ],
   "source": [
    "import numpy as np\n",
    "import cv2\n",
    "import json\n",
    "import subprocess\n",
    "\n",
    "\n",
    "with open('v1.log') as f:\n",
    "    f = f.readlines()\n",
    "\n",
    "x = []\n",
    "y = []\n",
    "\n",
    "# 630 seconds\n",
    "for i in f:\n",
    "    i = i.split(\"|\")\n",
    "    a = int(i[2])-272738207\n",
    "    x.append(a)\n",
    "    y.append(float(i[3]))\n",
    "\n",
    "fps = 0\n",
    "video = cv2.VideoCapture(\"v1.mp4\")\n",
    "(major_ver, minor_ver, subminor_ver) = (cv2.__version__).split('.')\n",
    "if int(major_ver)  < 3 :\n",
    "    fps = video.get(cv2.cv.CV_CAP_PROP_FPS)\n",
    "    print (\"Frames per second using video.get(cv2.cv.CV_CAP_PROP_FPS): {0}\".format(fps))\n",
    "else :\n",
    "    fps = video.get(cv2.CAP_PROP_FPS)\n",
    "    print (\"Frames per second using video.get(cv2.CAP_PROP_FPS) : {0}\".format(fps))\n",
    "    \n",
    "arr1 = []\n",
    "arr2 = []\n",
    "\n",
    "total_list = []\n",
    "k = 1/fps\n",
    "j = k\n",
    "m = x[len(x)-1]\n",
    "while True:\n",
    "    arr3 = []\n",
    "    if j > m:\n",
    "        break\n",
    "    a = np.interp(j,x,y)\n",
    "#     arr1.append(j)\n",
    "#     arr2.append(a)\n",
    "    arr3.append(j)\n",
    "    arr3.append(a)\n",
    "    total_list.append(arr3)\n",
    "    j = j + k\n",
    "\n",
    "with open('v1.json', 'w') as filehandle:  \n",
    "    json.dump(total_list, filehandle)\n",
    "    \n",
    "    \n",
    "# print (total_list)\n",
    "# print(arr1,arr2)\n",
    "# file = open(\"drive_train.txt\",\"a\")\n",
    "# file.write(total_list)\n",
    "\n",
    "\n",
    "\n",
    "    \n",
    "# with open('drive.txt') as json_data:\n",
    "#     ground_truth = json.load(json_data)\n",
    "#     json_data.close()\n",
    "#     for idx, item in enumerate(ground_truth):\n",
    "#         print (item[0],item[1])\n",
    "\n",
    "        \n",
    "# vidcap = cv2.VideoCapture('video1.mp4')\n",
    "# success,image = vidcap.read()\n",
    "# count = 0\n",
    "# success = True\n",
    "# while success:\n",
    "# #   cv2.imwrite(\"frame%d.jpg\" % count, image)     # save frame as JPEG file\n",
    "#   success,image = vidcap.read()\n",
    "#   count += 1\n",
    "# print (count)"
   ]
  },
  {
   "cell_type": "code",
   "execution_count": 2,
   "metadata": {},
   "outputs": [
    {
     "name": "stdout",
     "output_type": "stream",
     "text": [
      "18068\n"
     ]
    }
   ],
   "source": [
    "\n",
    "import os\n",
    "m = os.listdir(\"./IMG1\")\n",
    "print (len(m))\n",
    "# from IPython.display import Image\n",
    "# Image(filename=\"./IMG/\"+m[11])"
   ]
  },
  {
   "cell_type": "code",
   "execution_count": 3,
   "metadata": {},
   "outputs": [
    {
     "name": "stdout",
     "output_type": "stream",
     "text": [
      "height 1088.0\n",
      "width 1920.0\n"
     ]
    }
   ],
   "source": [
    "import cv2\n",
    "vcap = cv2.VideoCapture('vh2.mp4') # 0=camera\n",
    "\n",
    "if vcap.isOpened(): \n",
    "    # get vcap property \n",
    "    width = vcap.get(cv2.CAP_PROP_FRAME_WIDTH)   # float\n",
    "    height = vcap.get(cv2.CAP_PROP_FRAME_HEIGHT) # float\n",
    "\n",
    "    # or\n",
    "    width = vcap.get(3)  # float\n",
    "    height = vcap.get(4) # float\n",
    "    \n",
    "    print('height',height)\n",
    "    print('width',width)"
   ]
  },
  {
   "cell_type": "code",
   "execution_count": 15,
   "metadata": {},
   "outputs": [],
   "source": [
    "import cv2\n",
    "vcap = cv2.VideoCapture('~/hasan/traffic/speedChallenge/test_suite/video.mp4') # 0=camera\n",
    "\n",
    "# if vcap.isOpened(): \n",
    "#     # get vcap property \n",
    "#     width = vcap.get(cv2.CAP_PROP_FRAME_WIDTH)   # float\n",
    "#     height = vcap.get(cv2.CAP_PROP_FRAME_HEIGHT) # float\n",
    "\n",
    "#     # or\n",
    "#     width = vcap.get(3)  # float\n",
    "#     height = vcap.get(4) # float\n",
    "    \n",
    "#     print('height',height)\n",
    "#     print('width',width)"
   ]
  },
  {
   "cell_type": "code",
   "execution_count": null,
   "metadata": {},
   "outputs": [],
   "source": []
  }
 ],
 "metadata": {
  "kernelspec": {
   "display_name": "Python 3",
   "language": "python",
   "name": "python3"
  },
  "language_info": {
   "codemirror_mode": {
    "name": "ipython",
    "version": 3
   },
   "file_extension": ".py",
   "mimetype": "text/x-python",
   "name": "python",
   "nbconvert_exporter": "python",
   "pygments_lexer": "ipython3",
   "version": "3.6.8"
  }
 },
 "nbformat": 4,
 "nbformat_minor": 2
}
