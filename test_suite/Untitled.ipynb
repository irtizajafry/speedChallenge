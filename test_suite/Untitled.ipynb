{
 "cells": [
  {
   "cell_type": "code",
   "execution_count": 3,
   "metadata": {},
   "outputs": [
    {
     "name": "stdout",
     "output_type": "stream",
     "text": [
      "height 352.0\n",
      "width 640.0\n"
     ]
    }
   ],
   "source": [
    "import cv2\n",
    "vcap = cv2.VideoCapture(\"./data/train-video.mp4\") # 0=camera\n",
    "\n",
    "if vcap.isOpened(): \n",
    "    # get vcap property \n",
    "    width = vcap.get(cv2.CAP_PROP_FRAME_WIDTH)   # float\n",
    "    height = vcap.get(cv2.CAP_PROP_FRAME_HEIGHT) # float\n",
    "\n",
    "    # or\n",
    "    width = vcap.get(3)  # float\n",
    "    height = vcap.get(4) # float\n",
    "    \n",
    "    print('height',height)\n",
    "    print('width',width)"
   ]
  },
  {
   "cell_type": "code",
   "execution_count": 4,
   "metadata": {},
   "outputs": [
    {
     "name": "stdout",
     "output_type": "stream",
     "text": [
      "height 480.0\n",
      "width 640.0\n"
     ]
    }
   ],
   "source": [
    "import cv2\n",
    "vcap = cv2.VideoCapture(\"./data/drive.mp4\") # 0=camera\n",
    "\n",
    "if vcap.isOpened(): \n",
    "    # get vcap property \n",
    "    width = vcap.get(cv2.CAP_PROP_FRAME_WIDTH)   # float\n",
    "    height = vcap.get(cv2.CAP_PROP_FRAME_HEIGHT) # float\n",
    "\n",
    "    # or\n",
    "    width = vcap.get(3)  # float\n",
    "    height = vcap.get(4) # float\n",
    "    \n",
    "    print('height',height)\n",
    "    print('width',width)"
   ]
  },
  {
   "cell_type": "code",
   "execution_count": 5,
   "metadata": {},
   "outputs": [
    {
     "name": "stdout",
     "output_type": "stream",
     "text": [
      "height 1080.0\n",
      "width 1440.0\n"
     ]
    }
   ],
   "source": [
    "import cv2\n",
    "vcap = cv2.VideoCapture(\"./data/v1.mp4\") # 0=camera\n",
    "\n",
    "if vcap.isOpened(): \n",
    "    # get vcap property \n",
    "    width = vcap.get(cv2.CAP_PROP_FRAME_WIDTH)   # float\n",
    "    height = vcap.get(cv2.CAP_PROP_FRAME_HEIGHT) # float\n",
    "\n",
    "    # or\n",
    "    width = vcap.get(3)  # float\n",
    "    height = vcap.get(4) # float\n",
    "    \n",
    "    print('height',height)\n",
    "    print('width',width)"
   ]
  },
  {
   "cell_type": "code",
   "execution_count": 7,
   "metadata": {},
   "outputs": [
    {
     "name": "stdout",
     "output_type": "stream",
     "text": [
      "height 100.0\n",
      "width 400.0\n"
     ]
    }
   ],
   "source": [
    "import cv2\n",
    "vcap = cv2.VideoCapture(\"./movie_m1test3.mp4\") # 0=camera\n",
    "\n",
    "if vcap.isOpened(): \n",
    "    # get vcap property \n",
    "    width = vcap.get(cv2.CAP_PROP_FRAME_WIDTH)   # float\n",
    "    height = vcap.get(cv2.CAP_PROP_FRAME_HEIGHT) # float\n",
    "\n",
    "    # or\n",
    "    width = vcap.get(3)  # float\n",
    "    height = vcap.get(4) # float\n",
    "    \n",
    "    print('height',height)\n",
    "    print('width',width)"
   ]
  },
  {
   "cell_type": "code",
   "execution_count": 2,
   "metadata": {},
   "outputs": [
    {
     "ename": "ModuleNotFoundError",
     "evalue": "No module named 'keras'",
     "output_type": "error",
     "traceback": [
      "\u001b[0;31m---------------------------------------------------------------------------\u001b[0m",
      "\u001b[0;31mModuleNotFoundError\u001b[0m                       Traceback (most recent call last)",
      "\u001b[0;32m<ipython-input-2-88d96843a926>\u001b[0m in \u001b[0;36m<module>\u001b[0;34m\u001b[0m\n\u001b[0;32m----> 1\u001b[0;31m \u001b[0;32mimport\u001b[0m \u001b[0mkeras\u001b[0m\u001b[0;34m\u001b[0m\u001b[0;34m\u001b[0m\u001b[0m\n\u001b[0m",
      "\u001b[0;31mModuleNotFoundError\u001b[0m: No module named 'keras'"
     ]
    }
   ],
   "source": [
    "import keras"
   ]
  },
  {
   "cell_type": "code",
   "execution_count": null,
   "metadata": {},
   "outputs": [],
   "source": []
  }
 ],
 "metadata": {
  "kernelspec": {
   "display_name": "Python 3",
   "language": "python",
   "name": "python3"
  },
  "language_info": {
   "codemirror_mode": {
    "name": "ipython",
    "version": 3
   },
   "file_extension": ".py",
   "mimetype": "text/x-python",
   "name": "python",
   "nbconvert_exporter": "python",
   "pygments_lexer": "ipython3",
   "version": "3.7.3"
  }
 },
 "nbformat": 4,
 "nbformat_minor": 2
}
